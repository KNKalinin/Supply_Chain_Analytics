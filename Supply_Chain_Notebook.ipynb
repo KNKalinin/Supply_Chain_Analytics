{
  "nbformat": 4,
  "nbformat_minor": 0,
  "metadata": {
    "colab": {
      "name": "Supply Chain Notebook.ipynb",
      "version": "0.3.2",
      "provenance": [],
      "include_colab_link": true
    },
    "kernelspec": {
      "name": "python3",
      "display_name": "Python 3"
    },
    "accelerator": "GPU"
  },
  "cells": [
    {
      "cell_type": "markdown",
      "metadata": {
        "id": "view-in-github",
        "colab_type": "text"
      },
      "source": [
        "<a href=\"https://colab.research.google.com/github/ghoshal7/Supply_Chain_Analytics/blob/master/Supply_Chain_Notebook.ipynb\" target=\"_parent\"><img src=\"https://colab.research.google.com/assets/colab-badge.svg\" alt=\"Open In Colab\"/></a>"
      ]
    },
    {
      "metadata": {
        "id": "WhkiUyP_g-Hj",
        "colab_type": "text"
      },
      "cell_type": "markdown",
      "source": [
        "### Prepare google colab"
      ]
    },
    {
      "metadata": {
        "id": "7P_k81B6TE6-",
        "colab_type": "code",
        "colab": {}
      },
      "cell_type": "code",
      "source": [
        "!pip install -U -q PyDrive\n",
        "from pydrive.auth import GoogleAuth\n",
        "from pydrive.drive import GoogleDrive\n",
        "from google.colab import auth\n",
        "from oauth2client.client import GoogleCredentials"
      ],
      "execution_count": 0,
      "outputs": []
    },
    {
      "metadata": {
        "id": "Qz4hqdNPTHP8",
        "colab_type": "code",
        "colab": {}
      },
      "cell_type": "code",
      "source": [
        "auth.authenticate_user()\n",
        "gauth = GoogleAuth()\n",
        "gauth.credentials = GoogleCredentials.get_application_default()\n",
        "drive = GoogleDrive(gauth)"
      ],
      "execution_count": 0,
      "outputs": []
    },
    {
      "metadata": {
        "id": "Qqe-UZk7hJzg",
        "colab_type": "text"
      },
      "cell_type": "markdown",
      "source": [
        "### Load data"
      ]
    },
    {
      "metadata": {
        "id": "rHplfXgiTM7Q",
        "colab_type": "code",
        "colab": {}
      },
      "cell_type": "code",
      "source": [
        "downloaded = drive.CreateFile({'id':'15H9eeU6p7MzIqbz9aQGpQwp4D1bN8lPm'}) \n",
        "downloaded.GetContentFile('CASE STUDY_DATA_LATE DELIVERY ROOT CAUSE.xlsx') "
      ],
      "execution_count": 0,
      "outputs": []
    },
    {
      "metadata": {
        "id": "s0VDRWfbTM9d",
        "colab_type": "code",
        "outputId": "e05e1d5f-78c1-4686-90ec-ed8f787542d9",
        "colab": {
          "base_uri": "https://localhost:8080/",
          "height": 305
        }
      },
      "cell_type": "code",
      "source": [
        "import numpy as np\n",
        "import pandas as pd\n",
        "pd.options.display.max_columns = None\n",
        "from dateutil import parser\n",
        "import matplotlib.pyplot as plt\n",
        "import seaborn as sb\n",
        "\n",
        "# Read data\n",
        "data = pd.read_excel('CASE STUDY_DATA_LATE DELIVERY ROOT CAUSE.xlsx')\n",
        "data.head()"
      ],
      "execution_count": 4,
      "outputs": [
        {
          "output_type": "execute_result",
          "data": {
            "text/html": [
              "<div>\n",
              "<style scoped>\n",
              "    .dataframe tbody tr th:only-of-type {\n",
              "        vertical-align: middle;\n",
              "    }\n",
              "\n",
              "    .dataframe tbody tr th {\n",
              "        vertical-align: top;\n",
              "    }\n",
              "\n",
              "    .dataframe thead th {\n",
              "        text-align: right;\n",
              "    }\n",
              "</style>\n",
              "<table border=\"1\" class=\"dataframe\">\n",
              "  <thead>\n",
              "    <tr style=\"text-align: right;\">\n",
              "      <th></th>\n",
              "      <th>order_id</th>\n",
              "      <th>country</th>\n",
              "      <th>shipping_method</th>\n",
              "      <th>units_per_order</th>\n",
              "      <th>facility</th>\n",
              "      <th>product_category</th>\n",
              "      <th>on_sale</th>\n",
              "      <th>transit_days</th>\n",
              "      <th>returned</th>\n",
              "      <th>backorder</th>\n",
              "      <th>datetime_ordered</th>\n",
              "      <th>datetime_sourced</th>\n",
              "      <th>datetime_product_ready</th>\n",
              "      <th>datetime_planned</th>\n",
              "      <th>datetime_delivered</th>\n",
              "      <th>deadline_source</th>\n",
              "      <th>deadline_make</th>\n",
              "      <th>deadline_deliver</th>\n",
              "      <th>delivered_to_plan</th>\n",
              "    </tr>\n",
              "  </thead>\n",
              "  <tbody>\n",
              "    <tr>\n",
              "      <th>0</th>\n",
              "      <td>E00000001</td>\n",
              "      <td>UNITED KINGDOM</td>\n",
              "      <td>Ground</td>\n",
              "      <td>1</td>\n",
              "      <td>OXFORD</td>\n",
              "      <td>ACCESSORIES</td>\n",
              "      <td>Y</td>\n",
              "      <td>2</td>\n",
              "      <td>NaN</td>\n",
              "      <td>NaN</td>\n",
              "      <td>2016-07-03 03:07:29</td>\n",
              "      <td>2016-07-03 04:09:49</td>\n",
              "      <td>2016-07-06 00:59:42</td>\n",
              "      <td>2016-07-08</td>\n",
              "      <td>2016-07-07</td>\n",
              "      <td>1612</td>\n",
              "      <td>38</td>\n",
              "      <td>3</td>\n",
              "      <td>PASS</td>\n",
              "    </tr>\n",
              "    <tr>\n",
              "      <th>1</th>\n",
              "      <td>E00000002</td>\n",
              "      <td>FRANCE</td>\n",
              "      <td>Ground</td>\n",
              "      <td>1</td>\n",
              "      <td>ANTWERP</td>\n",
              "      <td>JACKETS &amp; VESTS</td>\n",
              "      <td>N</td>\n",
              "      <td>3</td>\n",
              "      <td>Y</td>\n",
              "      <td>NaN</td>\n",
              "      <td>2016-07-03 00:08:43</td>\n",
              "      <td>2016-07-03 02:16:24</td>\n",
              "      <td>2016-07-03 07:17:04</td>\n",
              "      <td>2016-07-06</td>\n",
              "      <td>2016-07-05</td>\n",
              "      <td>531</td>\n",
              "      <td>8</td>\n",
              "      <td>3</td>\n",
              "      <td>PASS</td>\n",
              "    </tr>\n",
              "    <tr>\n",
              "      <th>2</th>\n",
              "      <td>E00000003</td>\n",
              "      <td>FRANCE</td>\n",
              "      <td>Ground</td>\n",
              "      <td>1</td>\n",
              "      <td>ANTWERP</td>\n",
              "      <td>TOPS</td>\n",
              "      <td>Y</td>\n",
              "      <td>3</td>\n",
              "      <td>NaN</td>\n",
              "      <td>NaN</td>\n",
              "      <td>2016-07-03 00:36:00</td>\n",
              "      <td>2016-07-03 02:16:18</td>\n",
              "      <td>2016-07-03 06:16:57</td>\n",
              "      <td>2016-07-06</td>\n",
              "      <td>2016-07-05</td>\n",
              "      <td>504</td>\n",
              "      <td>8</td>\n",
              "      <td>3</td>\n",
              "      <td>PASS</td>\n",
              "    </tr>\n",
              "    <tr>\n",
              "      <th>3</th>\n",
              "      <td>E00000004</td>\n",
              "      <td>FRANCE</td>\n",
              "      <td>Ground</td>\n",
              "      <td>1</td>\n",
              "      <td>ANTWERP</td>\n",
              "      <td>JACKETS &amp; VESTS</td>\n",
              "      <td>Y</td>\n",
              "      <td>5</td>\n",
              "      <td>NaN</td>\n",
              "      <td>NaN</td>\n",
              "      <td>2016-07-03 00:47:45</td>\n",
              "      <td>2016-07-03 02:16:18</td>\n",
              "      <td>2016-07-03 06:16:55</td>\n",
              "      <td>2016-07-07</td>\n",
              "      <td>2016-07-05</td>\n",
              "      <td>492</td>\n",
              "      <td>8</td>\n",
              "      <td>5</td>\n",
              "      <td>PASS</td>\n",
              "    </tr>\n",
              "    <tr>\n",
              "      <th>4</th>\n",
              "      <td>E00000005</td>\n",
              "      <td>UNITED KINGDOM</td>\n",
              "      <td>Next Day</td>\n",
              "      <td>1</td>\n",
              "      <td>OXFORD</td>\n",
              "      <td>JACKETS &amp; VESTS</td>\n",
              "      <td>Y</td>\n",
              "      <td>1</td>\n",
              "      <td>NaN</td>\n",
              "      <td>NaN</td>\n",
              "      <td>2016-07-03 03:52:13</td>\n",
              "      <td>2016-07-03 07:56:33</td>\n",
              "      <td>2016-07-05 08:53:19</td>\n",
              "      <td>2016-07-06</td>\n",
              "      <td>2016-07-06</td>\n",
              "      <td>1567</td>\n",
              "      <td>6</td>\n",
              "      <td>1</td>\n",
              "      <td>PASS</td>\n",
              "    </tr>\n",
              "  </tbody>\n",
              "</table>\n",
              "</div>"
            ],
            "text/plain": [
              "    order_id         country shipping_method  units_per_order facility  \\\n",
              "0  E00000001  UNITED KINGDOM          Ground                1   OXFORD   \n",
              "1  E00000002          FRANCE          Ground                1  ANTWERP   \n",
              "2  E00000003          FRANCE          Ground                1  ANTWERP   \n",
              "3  E00000004          FRANCE          Ground                1  ANTWERP   \n",
              "4  E00000005  UNITED KINGDOM        Next Day                1   OXFORD   \n",
              "\n",
              "  product_category on_sale  transit_days returned backorder  \\\n",
              "0      ACCESSORIES       Y             2      NaN       NaN   \n",
              "1  JACKETS & VESTS       N             3        Y       NaN   \n",
              "2             TOPS       Y             3      NaN       NaN   \n",
              "3  JACKETS & VESTS       Y             5      NaN       NaN   \n",
              "4  JACKETS & VESTS       Y             1      NaN       NaN   \n",
              "\n",
              "     datetime_ordered    datetime_sourced datetime_product_ready  \\\n",
              "0 2016-07-03 03:07:29 2016-07-03 04:09:49    2016-07-06 00:59:42   \n",
              "1 2016-07-03 00:08:43 2016-07-03 02:16:24    2016-07-03 07:17:04   \n",
              "2 2016-07-03 00:36:00 2016-07-03 02:16:18    2016-07-03 06:16:57   \n",
              "3 2016-07-03 00:47:45 2016-07-03 02:16:18    2016-07-03 06:16:55   \n",
              "4 2016-07-03 03:52:13 2016-07-03 07:56:33    2016-07-05 08:53:19   \n",
              "\n",
              "  datetime_planned datetime_delivered  deadline_source  deadline_make  \\\n",
              "0       2016-07-08         2016-07-07             1612             38   \n",
              "1       2016-07-06         2016-07-05              531              8   \n",
              "2       2016-07-06         2016-07-05              504              8   \n",
              "3       2016-07-07         2016-07-05              492              8   \n",
              "4       2016-07-06         2016-07-06             1567              6   \n",
              "\n",
              "   deadline_deliver delivered_to_plan  \n",
              "0                 3              PASS  \n",
              "1                 3              PASS  \n",
              "2                 3              PASS  \n",
              "3                 5              PASS  \n",
              "4                 1              PASS  "
            ]
          },
          "metadata": {
            "tags": []
          },
          "execution_count": 4
        }
      ]
    },
    {
      "metadata": {
        "id": "adu7t9_XhPxa",
        "colab_type": "text"
      },
      "cell_type": "markdown",
      "source": [
        "### See data and do initial cleanings"
      ]
    },
    {
      "metadata": {
        "id": "f-JOgp2TTNAH",
        "colab_type": "code",
        "outputId": "3be673fe-b4c9-4118-b474-1b6e9c675c88",
        "colab": {
          "base_uri": "https://localhost:8080/",
          "height": 272
        }
      },
      "cell_type": "code",
      "source": [
        "## \n",
        "print('size of data = ', np.shape(data))\n",
        "print('shipping methods = ', data.shipping_method.nunique(), '-->', data.shipping_method.unique())\n",
        "print('countries = ', data.country.nunique(), '-->', data.country.unique())\n",
        "print('facility = ', data.facility.nunique(), '-->', data.facility.unique())\n",
        "print('products = ', data.product_category.nunique(), '-->', data.product_category.unique())\n",
        "\n",
        "print('*'*20)\n",
        "\n",
        "print('rows with more than 1 orders = ', data[data.units_per_order != 1].shape[0])\n",
        "\n",
        "print('To understand:', '\\n', 'on_sale VALUES= ', data.on_sale.nunique(),'-->', data.on_sale.unique(), '\\n', \n",
        "     'returned VALUES = ', data.returned.nunique(), '-->', 'returned = ', data[data.returned == 'Y'].shape[0],'\\n',\n",
        "     'backorder VALUES = ', data.backorder.nunique(), '-->', 'backorder = ', data[data.backorder == 'Y'].shape[0],'\\n',\n",
        "     'passed = ', data[data.delivered_to_plan == 'PASS'].shape[0],'\\n',\n",
        "     'failed = ', data[data.delivered_to_plan == 'FAIL'].shape[0],'\\n')"
      ],
      "execution_count": 5,
      "outputs": [
        {
          "output_type": "stream",
          "text": [
            "size of data =  (110114, 19)\n",
            "shipping methods =  4 --> ['Ground' 'Next Day' '3-Day' '2-Day']\n",
            "countries =  6 --> ['UNITED KINGDOM' 'FRANCE' 'GERMANY' 'SWEDEN' 'BELGIUM' 'NETHERLANDS']\n",
            "facility =  6 --> ['OXFORD' 'ANTWERP' 'MANCHESTER' 'AUGSBURG' 'HANOVER' 'EINDHOVEN']\n",
            "products =  3 --> ['ACCESSORIES' 'JACKETS & VESTS' 'TOPS']\n",
            "********************\n",
            "rows with more than 1 orders =  2423\n",
            "To understand: \n",
            " on_sale VALUES=  2 --> ['Y' 'N'] \n",
            " returned VALUES =  1 --> returned =  15391 \n",
            " backorder VALUES =  1 --> backorder =  12110 \n",
            " passed =  98523 \n",
            " failed =  11591 \n",
            "\n"
          ],
          "name": "stdout"
        }
      ]
    },
    {
      "metadata": {
        "id": "uCik7j_VTNCu",
        "colab_type": "code",
        "outputId": "ac4ce02c-cf24-47f2-e147-5cdc28234295",
        "colab": {
          "base_uri": "https://localhost:8080/",
          "height": 35
        }
      },
      "cell_type": "code",
      "source": [
        "print(data.returned.unique(), data.backorder.unique(), data.returned.unique(), data.delivered_to_plan.unique())"
      ],
      "execution_count": 6,
      "outputs": [
        {
          "output_type": "stream",
          "text": [
            "[nan 'Y'] [nan 'Y'] [nan 'Y'] ['PASS' 'FAIL']\n"
          ],
          "name": "stdout"
        }
      ]
    },
    {
      "metadata": {
        "id": "mcjldXcraFY7",
        "colab_type": "text"
      },
      "cell_type": "markdown",
      "source": [
        "***Hence, wee need to replace nan with 1 (for Yes), 0 (for No), and then check for missing values***"
      ]
    },
    {
      "metadata": {
        "id": "h8dJU8VbTNFZ",
        "colab_type": "code",
        "outputId": "24987f3b-f4d8-4074-c53f-b4e21b3bfc3b",
        "colab": {
          "base_uri": "https://localhost:8080/",
          "height": 690
        }
      },
      "cell_type": "code",
      "source": [
        "df = data.copy()\n",
        "df.delivered_to_plan = np.where(df.delivered_to_plan == 'PASS', 1, 0)\n",
        "\n",
        "for i in ['on_sale', 'returned', 'backorder']:\n",
        "  print(i)\n",
        "  df[i] = np.where(df[i]=='Y', 1, 0)\n",
        "\n",
        "df.head(12)"
      ],
      "execution_count": 7,
      "outputs": [
        {
          "output_type": "stream",
          "text": [
            "on_sale\n",
            "returned\n",
            "backorder\n"
          ],
          "name": "stdout"
        },
        {
          "output_type": "execute_result",
          "data": {
            "text/html": [
              "<div>\n",
              "<style scoped>\n",
              "    .dataframe tbody tr th:only-of-type {\n",
              "        vertical-align: middle;\n",
              "    }\n",
              "\n",
              "    .dataframe tbody tr th {\n",
              "        vertical-align: top;\n",
              "    }\n",
              "\n",
              "    .dataframe thead th {\n",
              "        text-align: right;\n",
              "    }\n",
              "</style>\n",
              "<table border=\"1\" class=\"dataframe\">\n",
              "  <thead>\n",
              "    <tr style=\"text-align: right;\">\n",
              "      <th></th>\n",
              "      <th>order_id</th>\n",
              "      <th>country</th>\n",
              "      <th>shipping_method</th>\n",
              "      <th>units_per_order</th>\n",
              "      <th>facility</th>\n",
              "      <th>product_category</th>\n",
              "      <th>on_sale</th>\n",
              "      <th>transit_days</th>\n",
              "      <th>returned</th>\n",
              "      <th>backorder</th>\n",
              "      <th>datetime_ordered</th>\n",
              "      <th>datetime_sourced</th>\n",
              "      <th>datetime_product_ready</th>\n",
              "      <th>datetime_planned</th>\n",
              "      <th>datetime_delivered</th>\n",
              "      <th>deadline_source</th>\n",
              "      <th>deadline_make</th>\n",
              "      <th>deadline_deliver</th>\n",
              "      <th>delivered_to_plan</th>\n",
              "    </tr>\n",
              "  </thead>\n",
              "  <tbody>\n",
              "    <tr>\n",
              "      <th>0</th>\n",
              "      <td>E00000001</td>\n",
              "      <td>UNITED KINGDOM</td>\n",
              "      <td>Ground</td>\n",
              "      <td>1</td>\n",
              "      <td>OXFORD</td>\n",
              "      <td>ACCESSORIES</td>\n",
              "      <td>1</td>\n",
              "      <td>2</td>\n",
              "      <td>0</td>\n",
              "      <td>0</td>\n",
              "      <td>2016-07-03 03:07:29</td>\n",
              "      <td>2016-07-03 04:09:49</td>\n",
              "      <td>2016-07-06 00:59:42</td>\n",
              "      <td>2016-07-08</td>\n",
              "      <td>2016-07-07</td>\n",
              "      <td>1612</td>\n",
              "      <td>38</td>\n",
              "      <td>3</td>\n",
              "      <td>1</td>\n",
              "    </tr>\n",
              "    <tr>\n",
              "      <th>1</th>\n",
              "      <td>E00000002</td>\n",
              "      <td>FRANCE</td>\n",
              "      <td>Ground</td>\n",
              "      <td>1</td>\n",
              "      <td>ANTWERP</td>\n",
              "      <td>JACKETS &amp; VESTS</td>\n",
              "      <td>0</td>\n",
              "      <td>3</td>\n",
              "      <td>1</td>\n",
              "      <td>0</td>\n",
              "      <td>2016-07-03 00:08:43</td>\n",
              "      <td>2016-07-03 02:16:24</td>\n",
              "      <td>2016-07-03 07:17:04</td>\n",
              "      <td>2016-07-06</td>\n",
              "      <td>2016-07-05</td>\n",
              "      <td>531</td>\n",
              "      <td>8</td>\n",
              "      <td>3</td>\n",
              "      <td>1</td>\n",
              "    </tr>\n",
              "    <tr>\n",
              "      <th>2</th>\n",
              "      <td>E00000003</td>\n",
              "      <td>FRANCE</td>\n",
              "      <td>Ground</td>\n",
              "      <td>1</td>\n",
              "      <td>ANTWERP</td>\n",
              "      <td>TOPS</td>\n",
              "      <td>1</td>\n",
              "      <td>3</td>\n",
              "      <td>0</td>\n",
              "      <td>0</td>\n",
              "      <td>2016-07-03 00:36:00</td>\n",
              "      <td>2016-07-03 02:16:18</td>\n",
              "      <td>2016-07-03 06:16:57</td>\n",
              "      <td>2016-07-06</td>\n",
              "      <td>2016-07-05</td>\n",
              "      <td>504</td>\n",
              "      <td>8</td>\n",
              "      <td>3</td>\n",
              "      <td>1</td>\n",
              "    </tr>\n",
              "    <tr>\n",
              "      <th>3</th>\n",
              "      <td>E00000004</td>\n",
              "      <td>FRANCE</td>\n",
              "      <td>Ground</td>\n",
              "      <td>1</td>\n",
              "      <td>ANTWERP</td>\n",
              "      <td>JACKETS &amp; VESTS</td>\n",
              "      <td>1</td>\n",
              "      <td>5</td>\n",
              "      <td>0</td>\n",
              "      <td>0</td>\n",
              "      <td>2016-07-03 00:47:45</td>\n",
              "      <td>2016-07-03 02:16:18</td>\n",
              "      <td>2016-07-03 06:16:55</td>\n",
              "      <td>2016-07-07</td>\n",
              "      <td>2016-07-05</td>\n",
              "      <td>492</td>\n",
              "      <td>8</td>\n",
              "      <td>5</td>\n",
              "      <td>1</td>\n",
              "    </tr>\n",
              "    <tr>\n",
              "      <th>4</th>\n",
              "      <td>E00000005</td>\n",
              "      <td>UNITED KINGDOM</td>\n",
              "      <td>Next Day</td>\n",
              "      <td>1</td>\n",
              "      <td>OXFORD</td>\n",
              "      <td>JACKETS &amp; VESTS</td>\n",
              "      <td>1</td>\n",
              "      <td>1</td>\n",
              "      <td>0</td>\n",
              "      <td>0</td>\n",
              "      <td>2016-07-03 03:52:13</td>\n",
              "      <td>2016-07-03 07:56:33</td>\n",
              "      <td>2016-07-05 08:53:19</td>\n",
              "      <td>2016-07-06</td>\n",
              "      <td>2016-07-06</td>\n",
              "      <td>1567</td>\n",
              "      <td>6</td>\n",
              "      <td>1</td>\n",
              "      <td>1</td>\n",
              "    </tr>\n",
              "    <tr>\n",
              "      <th>5</th>\n",
              "      <td>E00000006</td>\n",
              "      <td>UNITED KINGDOM</td>\n",
              "      <td>Ground</td>\n",
              "      <td>1</td>\n",
              "      <td>MANCHESTER</td>\n",
              "      <td>JACKETS &amp; VESTS</td>\n",
              "      <td>1</td>\n",
              "      <td>1</td>\n",
              "      <td>1</td>\n",
              "      <td>0</td>\n",
              "      <td>2016-07-03 04:15:07</td>\n",
              "      <td>2016-07-03 07:56:53</td>\n",
              "      <td>2016-07-04 19:04:46</td>\n",
              "      <td>2016-07-07</td>\n",
              "      <td>2016-07-05</td>\n",
              "      <td>1544</td>\n",
              "      <td>34</td>\n",
              "      <td>2</td>\n",
              "      <td>1</td>\n",
              "    </tr>\n",
              "    <tr>\n",
              "      <th>6</th>\n",
              "      <td>E00000007</td>\n",
              "      <td>UNITED KINGDOM</td>\n",
              "      <td>Ground</td>\n",
              "      <td>1</td>\n",
              "      <td>OXFORD</td>\n",
              "      <td>TOPS</td>\n",
              "      <td>0</td>\n",
              "      <td>2</td>\n",
              "      <td>1</td>\n",
              "      <td>0</td>\n",
              "      <td>2016-07-03 04:21:14</td>\n",
              "      <td>2016-07-05 16:44:24</td>\n",
              "      <td>2016-07-06 18:38:55</td>\n",
              "      <td>2016-07-08</td>\n",
              "      <td>2016-07-08</td>\n",
              "      <td>1538</td>\n",
              "      <td>25</td>\n",
              "      <td>5</td>\n",
              "      <td>1</td>\n",
              "    </tr>\n",
              "    <tr>\n",
              "      <th>7</th>\n",
              "      <td>E00000008</td>\n",
              "      <td>UNITED KINGDOM</td>\n",
              "      <td>Ground</td>\n",
              "      <td>1</td>\n",
              "      <td>OXFORD</td>\n",
              "      <td>JACKETS &amp; VESTS</td>\n",
              "      <td>1</td>\n",
              "      <td>2</td>\n",
              "      <td>0</td>\n",
              "      <td>0</td>\n",
              "      <td>2016-07-03 04:28:20</td>\n",
              "      <td>2016-07-03 07:46:47</td>\n",
              "      <td>2016-07-05 13:38:41</td>\n",
              "      <td>2016-07-08</td>\n",
              "      <td>2016-07-06</td>\n",
              "      <td>1531</td>\n",
              "      <td>31</td>\n",
              "      <td>2</td>\n",
              "      <td>1</td>\n",
              "    </tr>\n",
              "    <tr>\n",
              "      <th>8</th>\n",
              "      <td>E00000009</td>\n",
              "      <td>FRANCE</td>\n",
              "      <td>Ground</td>\n",
              "      <td>1</td>\n",
              "      <td>ANTWERP</td>\n",
              "      <td>TOPS</td>\n",
              "      <td>1</td>\n",
              "      <td>4</td>\n",
              "      <td>0</td>\n",
              "      <td>0</td>\n",
              "      <td>2016-07-03 01:29:43</td>\n",
              "      <td>2016-07-03 03:17:01</td>\n",
              "      <td>2016-07-03 08:16:25</td>\n",
              "      <td>2016-07-06</td>\n",
              "      <td>2016-07-05</td>\n",
              "      <td>450</td>\n",
              "      <td>7</td>\n",
              "      <td>4</td>\n",
              "      <td>1</td>\n",
              "    </tr>\n",
              "    <tr>\n",
              "      <th>9</th>\n",
              "      <td>E00000010</td>\n",
              "      <td>FRANCE</td>\n",
              "      <td>Ground</td>\n",
              "      <td>1</td>\n",
              "      <td>ANTWERP</td>\n",
              "      <td>JACKETS &amp; VESTS</td>\n",
              "      <td>1</td>\n",
              "      <td>3</td>\n",
              "      <td>0</td>\n",
              "      <td>0</td>\n",
              "      <td>2016-07-03 01:39:28</td>\n",
              "      <td>2016-07-03 04:16:31</td>\n",
              "      <td>2016-07-03 06:17:19</td>\n",
              "      <td>2016-07-06</td>\n",
              "      <td>2016-07-06</td>\n",
              "      <td>440</td>\n",
              "      <td>6</td>\n",
              "      <td>3</td>\n",
              "      <td>1</td>\n",
              "    </tr>\n",
              "    <tr>\n",
              "      <th>10</th>\n",
              "      <td>E00000011</td>\n",
              "      <td>FRANCE</td>\n",
              "      <td>Ground</td>\n",
              "      <td>1</td>\n",
              "      <td>ANTWERP</td>\n",
              "      <td>TOPS</td>\n",
              "      <td>1</td>\n",
              "      <td>3</td>\n",
              "      <td>0</td>\n",
              "      <td>0</td>\n",
              "      <td>2016-07-03 01:53:21</td>\n",
              "      <td>2016-07-03 04:16:30</td>\n",
              "      <td>2016-07-03 06:17:21</td>\n",
              "      <td>2016-07-05</td>\n",
              "      <td>2016-07-04</td>\n",
              "      <td>426</td>\n",
              "      <td>6</td>\n",
              "      <td>3</td>\n",
              "      <td>1</td>\n",
              "    </tr>\n",
              "    <tr>\n",
              "      <th>11</th>\n",
              "      <td>E00000012</td>\n",
              "      <td>UNITED KINGDOM</td>\n",
              "      <td>Ground</td>\n",
              "      <td>1</td>\n",
              "      <td>MANCHESTER</td>\n",
              "      <td>JACKETS &amp; VESTS</td>\n",
              "      <td>1</td>\n",
              "      <td>2</td>\n",
              "      <td>0</td>\n",
              "      <td>0</td>\n",
              "      <td>2016-07-03 05:01:12</td>\n",
              "      <td>2016-07-03 07:56:56</td>\n",
              "      <td>2016-07-04 13:36:59</td>\n",
              "      <td>2016-07-08</td>\n",
              "      <td>2016-07-05</td>\n",
              "      <td>1498</td>\n",
              "      <td>31</td>\n",
              "      <td>2</td>\n",
              "      <td>1</td>\n",
              "    </tr>\n",
              "  </tbody>\n",
              "</table>\n",
              "</div>"
            ],
            "text/plain": [
              "     order_id         country shipping_method  units_per_order    facility  \\\n",
              "0   E00000001  UNITED KINGDOM          Ground                1      OXFORD   \n",
              "1   E00000002          FRANCE          Ground                1     ANTWERP   \n",
              "2   E00000003          FRANCE          Ground                1     ANTWERP   \n",
              "3   E00000004          FRANCE          Ground                1     ANTWERP   \n",
              "4   E00000005  UNITED KINGDOM        Next Day                1      OXFORD   \n",
              "5   E00000006  UNITED KINGDOM          Ground                1  MANCHESTER   \n",
              "6   E00000007  UNITED KINGDOM          Ground                1      OXFORD   \n",
              "7   E00000008  UNITED KINGDOM          Ground                1      OXFORD   \n",
              "8   E00000009          FRANCE          Ground                1     ANTWERP   \n",
              "9   E00000010          FRANCE          Ground                1     ANTWERP   \n",
              "10  E00000011          FRANCE          Ground                1     ANTWERP   \n",
              "11  E00000012  UNITED KINGDOM          Ground                1  MANCHESTER   \n",
              "\n",
              "   product_category  on_sale  transit_days  returned  backorder  \\\n",
              "0       ACCESSORIES        1             2         0          0   \n",
              "1   JACKETS & VESTS        0             3         1          0   \n",
              "2              TOPS        1             3         0          0   \n",
              "3   JACKETS & VESTS        1             5         0          0   \n",
              "4   JACKETS & VESTS        1             1         0          0   \n",
              "5   JACKETS & VESTS        1             1         1          0   \n",
              "6              TOPS        0             2         1          0   \n",
              "7   JACKETS & VESTS        1             2         0          0   \n",
              "8              TOPS        1             4         0          0   \n",
              "9   JACKETS & VESTS        1             3         0          0   \n",
              "10             TOPS        1             3         0          0   \n",
              "11  JACKETS & VESTS        1             2         0          0   \n",
              "\n",
              "      datetime_ordered    datetime_sourced datetime_product_ready  \\\n",
              "0  2016-07-03 03:07:29 2016-07-03 04:09:49    2016-07-06 00:59:42   \n",
              "1  2016-07-03 00:08:43 2016-07-03 02:16:24    2016-07-03 07:17:04   \n",
              "2  2016-07-03 00:36:00 2016-07-03 02:16:18    2016-07-03 06:16:57   \n",
              "3  2016-07-03 00:47:45 2016-07-03 02:16:18    2016-07-03 06:16:55   \n",
              "4  2016-07-03 03:52:13 2016-07-03 07:56:33    2016-07-05 08:53:19   \n",
              "5  2016-07-03 04:15:07 2016-07-03 07:56:53    2016-07-04 19:04:46   \n",
              "6  2016-07-03 04:21:14 2016-07-05 16:44:24    2016-07-06 18:38:55   \n",
              "7  2016-07-03 04:28:20 2016-07-03 07:46:47    2016-07-05 13:38:41   \n",
              "8  2016-07-03 01:29:43 2016-07-03 03:17:01    2016-07-03 08:16:25   \n",
              "9  2016-07-03 01:39:28 2016-07-03 04:16:31    2016-07-03 06:17:19   \n",
              "10 2016-07-03 01:53:21 2016-07-03 04:16:30    2016-07-03 06:17:21   \n",
              "11 2016-07-03 05:01:12 2016-07-03 07:56:56    2016-07-04 13:36:59   \n",
              "\n",
              "   datetime_planned datetime_delivered  deadline_source  deadline_make  \\\n",
              "0        2016-07-08         2016-07-07             1612             38   \n",
              "1        2016-07-06         2016-07-05              531              8   \n",
              "2        2016-07-06         2016-07-05              504              8   \n",
              "3        2016-07-07         2016-07-05              492              8   \n",
              "4        2016-07-06         2016-07-06             1567              6   \n",
              "5        2016-07-07         2016-07-05             1544             34   \n",
              "6        2016-07-08         2016-07-08             1538             25   \n",
              "7        2016-07-08         2016-07-06             1531             31   \n",
              "8        2016-07-06         2016-07-05              450              7   \n",
              "9        2016-07-06         2016-07-06              440              6   \n",
              "10       2016-07-05         2016-07-04              426              6   \n",
              "11       2016-07-08         2016-07-05             1498             31   \n",
              "\n",
              "    deadline_deliver  delivered_to_plan  \n",
              "0                  3                  1  \n",
              "1                  3                  1  \n",
              "2                  3                  1  \n",
              "3                  5                  1  \n",
              "4                  1                  1  \n",
              "5                  2                  1  \n",
              "6                  5                  1  \n",
              "7                  2                  1  \n",
              "8                  4                  1  \n",
              "9                  3                  1  \n",
              "10                 3                  1  \n",
              "11                 2                  1  "
            ]
          },
          "metadata": {
            "tags": []
          },
          "execution_count": 7
        }
      ]
    },
    {
      "metadata": {
        "id": "soN4aMhvkGLt",
        "colab_type": "code",
        "outputId": "290df16b-b465-454c-eefc-85245ee24dd7",
        "colab": {
          "base_uri": "https://localhost:8080/",
          "height": 381
        }
      },
      "cell_type": "code",
      "source": [
        "df.dtypes  ## date time format already done"
      ],
      "execution_count": 8,
      "outputs": [
        {
          "output_type": "execute_result",
          "data": {
            "text/plain": [
              "order_id                          object\n",
              "country                           object\n",
              "shipping_method                   object\n",
              "units_per_order                    int64\n",
              "facility                          object\n",
              "product_category                  object\n",
              "on_sale                            int64\n",
              "transit_days                       int64\n",
              "returned                           int64\n",
              "backorder                          int64\n",
              "datetime_ordered          datetime64[ns]\n",
              "datetime_sourced          datetime64[ns]\n",
              "datetime_product_ready    datetime64[ns]\n",
              "datetime_planned          datetime64[ns]\n",
              "datetime_delivered        datetime64[ns]\n",
              "deadline_source                    int64\n",
              "deadline_make                      int64\n",
              "deadline_deliver                   int64\n",
              "delivered_to_plan                  int64\n",
              "dtype: object"
            ]
          },
          "metadata": {
            "tags": []
          },
          "execution_count": 8
        }
      ]
    },
    {
      "metadata": {
        "id": "yl3NhjIrkjO5",
        "colab_type": "code",
        "outputId": "e3dc9d63-77d3-45d8-e96b-cc60b3bcb9df",
        "colab": {
          "base_uri": "https://localhost:8080/",
          "height": 108
        }
      },
      "cell_type": "code",
      "source": [
        "print(df.datetime_delivered[0] - df.datetime_delivered[1], '\\n', \n",
        "      df.datetime_ordered[0] - df.datetime_ordered[1], '\\n', \n",
        "      df.datetime_planned[0] - df.datetime_planned[1], '\\n', \n",
        "      df.datetime_product_ready[0] - df.datetime_product_ready[1], '\\n', \n",
        "      df.datetime_sourced[0] - df.datetime_sourced[1])"
      ],
      "execution_count": 9,
      "outputs": [
        {
          "output_type": "stream",
          "text": [
            "2 days 00:00:00 \n",
            " 0 days 02:58:46 \n",
            " 2 days 00:00:00 \n",
            " 2 days 17:42:38 \n",
            " 0 days 01:53:25\n"
          ],
          "name": "stdout"
        }
      ]
    },
    {
      "metadata": {
        "id": "yH0QqG_lb2kB",
        "colab_type": "code",
        "colab": {}
      },
      "cell_type": "code",
      "source": [
        ""
      ],
      "execution_count": 0,
      "outputs": []
    },
    {
      "metadata": {
        "id": "ImuAixoSf4by",
        "colab_type": "text"
      },
      "cell_type": "markdown",
      "source": [
        "**GET the date & time and DO some analysis**"
      ]
    },
    {
      "metadata": {
        "id": "rtExuuMkhqHH",
        "colab_type": "code",
        "colab": {
          "base_uri": "https://localhost:8080/",
          "height": 1056
        },
        "outputId": "98c93998-4552-4409-a1c1-e48b42a9464f"
      },
      "cell_type": "code",
      "source": [
        "print('maximum difference b/w order and source = ', '\\n', (df.datetime_sourced - df.datetime_ordered).nlargest(5))\n",
        "\n",
        "plt.hist((df.datetime_sourced - df.datetime_ordered).apply(lambda datestamp: datestamp.days), bins = 40); plt.show()\n",
        "print((df.datetime_sourced - df.datetime_ordered).apply(lambda datestamp: datestamp.days).value_counts())"
      ],
      "execution_count": 10,
      "outputs": [
        {
          "output_type": "stream",
          "text": [
            "maximum difference b/w order and source =  \n",
            " 33137   45 days 20:40:27\n",
            "11894   37 days 02:59:10\n",
            "1943    35 days 15:07:02\n",
            "880     34 days 00:25:03\n",
            "7904    32 days 00:59:23\n",
            "dtype: timedelta64[ns]\n"
          ],
          "name": "stdout"
        },
        {
          "output_type": "display_data",
          "data": {
            "image/png": "[encoded data removed]",
            "text/plain": [
              "<Figure size 576x396 with 1 Axes>"
            ]
          },
          "metadata": {
            "tags": []
          }
        },
        {
          "output_type": "stream",
          "text": [
            "0     105455\n",
            "1       3165\n",
            "2        841\n",
            "3        175\n",
            "7         72\n",
            "6         49\n",
            "8         44\n",
            "9         40\n",
            "4         37\n",
            "5         36\n",
            "10        36\n",
            "12        29\n",
            "11        28\n",
            "13        21\n",
            "14        14\n",
            "15        12\n",
            "16        12\n",
            "17        10\n",
            "19        10\n",
            "18         6\n",
            "20         5\n",
            "23         5\n",
            "22         3\n",
            "21         2\n",
            "37         1\n",
            "24         1\n",
            "29         1\n",
            "32         1\n",
            "34         1\n",
            "35         1\n",
            "45         1\n",
            "dtype: int64\n"
          ],
          "name": "stdout"
        }
      ]
    },
    {
      "metadata": {
        "id": "CvmeGVwMhw5A",
        "colab_type": "text"
      },
      "cell_type": "markdown",
      "source": [
        "**Therefore, we can drop if the difference b/w order and source is more than 1 days, as 0 consists = 105455/ 110114 = 95 %**"
      ]
    },
    {
      "metadata": {
        "id": "Hb-TyzaZwpav",
        "colab_type": "code",
        "colab": {}
      },
      "cell_type": "code",
      "source": [
        "df['date_order'] = df.datetime_ordered.apply(lambda datestamp: datestamp.date()) # date when order is planned\n",
        "df['date_planned'] = df.datetime_planned.apply(lambda datestamp: datestamp.date()) # date of promise delivery\n",
        "df['date_delivered'] = df.datetime_delivered.apply(lambda datestamp: datestamp.date()) # date when delivered\n",
        "df['date_product_ready'] = df.datetime_product_ready.apply(lambda datestamp: datestamp.date()) # date when ready\n",
        "\n",
        "df['time_order'] = df.datetime_ordered.apply(lambda datestamp: datestamp.time()) # time when order is planned\n",
        "df['time_planned'] = df.datetime_planned.apply(lambda datestamp: datestamp.time()) # time of promise delivery\n",
        "df['time_delivered'] = df.datetime_delivered.apply(lambda datestamp: datestamp.time()) # time when delivered\n",
        "df['time_product_ready'] = df.datetime_product_ready.apply(lambda datestamp: datestamp.time()) # time when ready\n",
        "\n",
        "df['source-order(in_days)']= (df.datetime_sourced - df.datetime_ordered).apply(lambda datestamp: datestamp.days)"
      ],
      "execution_count": 0,
      "outputs": []
    },
    {
      "metadata": {
        "id": "aauBUFwAmmVr",
        "colab_type": "code",
        "outputId": "cf5bbd4f-7351-48ae-8b68-4c5fd6161031",
        "colab": {
          "base_uri": "https://localhost:8080/",
          "height": 322
        }
      },
      "cell_type": "code",
      "source": [
        "df[df.delivered_to_plan == 0].head()"
      ],
      "execution_count": 12,
      "outputs": [
        {
          "output_type": "execute_result",
          "data": {
            "text/html": [
              "<div>\n",
              "<style scoped>\n",
              "    .dataframe tbody tr th:only-of-type {\n",
              "        vertical-align: middle;\n",
              "    }\n",
              "\n",
              "    .dataframe tbody tr th {\n",
              "        vertical-align: top;\n",
              "    }\n",
              "\n",
              "    .dataframe thead th {\n",
              "        text-align: right;\n",
              "    }\n",
              "</style>\n",
              "<table border=\"1\" class=\"dataframe\">\n",
              "  <thead>\n",
              "    <tr style=\"text-align: right;\">\n",
              "      <th></th>\n",
              "      <th>order_id</th>\n",
              "      <th>country</th>\n",
              "      <th>shipping_method</th>\n",
              "      <th>units_per_order</th>\n",
              "      <th>facility</th>\n",
              "      <th>product_category</th>\n",
              "      <th>on_sale</th>\n",
              "      <th>transit_days</th>\n",
              "      <th>returned</th>\n",
              "      <th>backorder</th>\n",
              "      <th>datetime_ordered</th>\n",
              "      <th>datetime_sourced</th>\n",
              "      <th>datetime_product_ready</th>\n",
              "      <th>datetime_planned</th>\n",
              "      <th>datetime_delivered</th>\n",
              "      <th>deadline_source</th>\n",
              "      <th>deadline_make</th>\n",
              "      <th>deadline_deliver</th>\n",
              "      <th>delivered_to_plan</th>\n",
              "      <th>date_order</th>\n",
              "      <th>date_planned</th>\n",
              "      <th>date_delivered</th>\n",
              "      <th>date_product_ready</th>\n",
              "      <th>time_order</th>\n",
              "      <th>time_planned</th>\n",
              "      <th>time_delivered</th>\n",
              "      <th>time_product_ready</th>\n",
              "      <th>source-order(in_days)</th>\n",
              "    </tr>\n",
              "  </thead>\n",
              "  <tbody>\n",
              "    <tr>\n",
              "      <th>42</th>\n",
              "      <td>E00000043</td>\n",
              "      <td>FRANCE</td>\n",
              "      <td>Ground</td>\n",
              "      <td>1</td>\n",
              "      <td>ANTWERP</td>\n",
              "      <td>JACKETS &amp; VESTS</td>\n",
              "      <td>1</td>\n",
              "      <td>3</td>\n",
              "      <td>0</td>\n",
              "      <td>0</td>\n",
              "      <td>2016-07-03 07:33:24</td>\n",
              "      <td>2016-07-03 09:17:23</td>\n",
              "      <td>2016-07-04 04:16:47</td>\n",
              "      <td>2016-07-05</td>\n",
              "      <td>2016-07-06</td>\n",
              "      <td>86</td>\n",
              "      <td>25</td>\n",
              "      <td>3</td>\n",
              "      <td>0</td>\n",
              "      <td>2016-07-03</td>\n",
              "      <td>2016-07-05</td>\n",
              "      <td>2016-07-06</td>\n",
              "      <td>2016-07-04</td>\n",
              "      <td>07:33:24</td>\n",
              "      <td>00:00:00</td>\n",
              "      <td>00:00:00</td>\n",
              "      <td>04:16:47</td>\n",
              "      <td>0</td>\n",
              "    </tr>\n",
              "    <tr>\n",
              "      <th>44</th>\n",
              "      <td>E00000045</td>\n",
              "      <td>FRANCE</td>\n",
              "      <td>Ground</td>\n",
              "      <td>1</td>\n",
              "      <td>ANTWERP</td>\n",
              "      <td>JACKETS &amp; VESTS</td>\n",
              "      <td>0</td>\n",
              "      <td>4</td>\n",
              "      <td>0</td>\n",
              "      <td>0</td>\n",
              "      <td>2016-07-03 07:55:02</td>\n",
              "      <td>2016-07-03 10:16:45</td>\n",
              "      <td>2016-07-04 05:17:01</td>\n",
              "      <td>2016-07-06</td>\n",
              "      <td>2016-07-07</td>\n",
              "      <td>64</td>\n",
              "      <td>24</td>\n",
              "      <td>4</td>\n",
              "      <td>0</td>\n",
              "      <td>2016-07-03</td>\n",
              "      <td>2016-07-06</td>\n",
              "      <td>2016-07-07</td>\n",
              "      <td>2016-07-04</td>\n",
              "      <td>07:55:02</td>\n",
              "      <td>00:00:00</td>\n",
              "      <td>00:00:00</td>\n",
              "      <td>05:17:01</td>\n",
              "      <td>0</td>\n",
              "    </tr>\n",
              "    <tr>\n",
              "      <th>50</th>\n",
              "      <td>E00000051</td>\n",
              "      <td>GERMANY</td>\n",
              "      <td>3-Day</td>\n",
              "      <td>1</td>\n",
              "      <td>AUGSBURG</td>\n",
              "      <td>JACKETS &amp; VESTS</td>\n",
              "      <td>1</td>\n",
              "      <td>3</td>\n",
              "      <td>0</td>\n",
              "      <td>0</td>\n",
              "      <td>2016-07-03 10:27:50</td>\n",
              "      <td>2016-07-04 04:42:13</td>\n",
              "      <td>2016-07-05 03:42:40</td>\n",
              "      <td>2016-07-08</td>\n",
              "      <td>2016-07-09</td>\n",
              "      <td>3812</td>\n",
              "      <td>70</td>\n",
              "      <td>4</td>\n",
              "      <td>0</td>\n",
              "      <td>2016-07-03</td>\n",
              "      <td>2016-07-08</td>\n",
              "      <td>2016-07-09</td>\n",
              "      <td>2016-07-05</td>\n",
              "      <td>10:27:50</td>\n",
              "      <td>00:00:00</td>\n",
              "      <td>00:00:00</td>\n",
              "      <td>03:42:40</td>\n",
              "      <td>0</td>\n",
              "    </tr>\n",
              "    <tr>\n",
              "      <th>56</th>\n",
              "      <td>E00000057</td>\n",
              "      <td>GERMANY</td>\n",
              "      <td>Ground</td>\n",
              "      <td>1</td>\n",
              "      <td>AUGSBURG</td>\n",
              "      <td>JACKETS &amp; VESTS</td>\n",
              "      <td>1</td>\n",
              "      <td>2</td>\n",
              "      <td>0</td>\n",
              "      <td>0</td>\n",
              "      <td>2016-07-03 11:10:54</td>\n",
              "      <td>2016-07-04 03:32:31</td>\n",
              "      <td>2016-07-05 03:42:47</td>\n",
              "      <td>2016-07-07</td>\n",
              "      <td>2016-07-08</td>\n",
              "      <td>3769</td>\n",
              "      <td>71</td>\n",
              "      <td>3</td>\n",
              "      <td>0</td>\n",
              "      <td>2016-07-03</td>\n",
              "      <td>2016-07-07</td>\n",
              "      <td>2016-07-08</td>\n",
              "      <td>2016-07-05</td>\n",
              "      <td>11:10:54</td>\n",
              "      <td>00:00:00</td>\n",
              "      <td>00:00:00</td>\n",
              "      <td>03:42:47</td>\n",
              "      <td>0</td>\n",
              "    </tr>\n",
              "    <tr>\n",
              "      <th>57</th>\n",
              "      <td>E00000058</td>\n",
              "      <td>GERMANY</td>\n",
              "      <td>3-Day</td>\n",
              "      <td>1</td>\n",
              "      <td>AUGSBURG</td>\n",
              "      <td>JACKETS &amp; VESTS</td>\n",
              "      <td>0</td>\n",
              "      <td>3</td>\n",
              "      <td>1</td>\n",
              "      <td>0</td>\n",
              "      <td>2016-07-03 11:40:02</td>\n",
              "      <td>2016-07-04 03:32:32</td>\n",
              "      <td>2016-07-05 03:42:54</td>\n",
              "      <td>2016-07-08</td>\n",
              "      <td>2016-07-13</td>\n",
              "      <td>3739</td>\n",
              "      <td>71</td>\n",
              "      <td>4</td>\n",
              "      <td>0</td>\n",
              "      <td>2016-07-03</td>\n",
              "      <td>2016-07-08</td>\n",
              "      <td>2016-07-13</td>\n",
              "      <td>2016-07-05</td>\n",
              "      <td>11:40:02</td>\n",
              "      <td>00:00:00</td>\n",
              "      <td>00:00:00</td>\n",
              "      <td>03:42:54</td>\n",
              "      <td>0</td>\n",
              "    </tr>\n",
              "  </tbody>\n",
              "</table>\n",
              "</div>"
            ],
            "text/plain": [
              "     order_id  country shipping_method  units_per_order  facility  \\\n",
              "42  E00000043   FRANCE          Ground                1   ANTWERP   \n",
              "44  E00000045   FRANCE          Ground                1   ANTWERP   \n",
              "50  E00000051  GERMANY           3-Day                1  AUGSBURG   \n",
              "56  E00000057  GERMANY          Ground                1  AUGSBURG   \n",
              "57  E00000058  GERMANY           3-Day                1  AUGSBURG   \n",
              "\n",
              "   product_category  on_sale  transit_days  returned  backorder  \\\n",
              "42  JACKETS & VESTS        1             3         0          0   \n",
              "44  JACKETS & VESTS        0             4         0          0   \n",
              "50  JACKETS & VESTS        1             3         0          0   \n",
              "56  JACKETS & VESTS        1             2         0          0   \n",
              "57  JACKETS & VESTS        0             3         1          0   \n",
              "\n",
              "      datetime_ordered    datetime_sourced datetime_product_ready  \\\n",
              "42 2016-07-03 07:33:24 2016-07-03 09:17:23    2016-07-04 04:16:47   \n",
              "44 2016-07-03 07:55:02 2016-07-03 10:16:45    2016-07-04 05:17:01   \n",
              "50 2016-07-03 10:27:50 2016-07-04 04:42:13    2016-07-05 03:42:40   \n",
              "56 2016-07-03 11:10:54 2016-07-04 03:32:31    2016-07-05 03:42:47   \n",
              "57 2016-07-03 11:40:02 2016-07-04 03:32:32    2016-07-05 03:42:54   \n",
              "\n",
              "   datetime_planned datetime_delivered  deadline_source  deadline_make  \\\n",
              "42       2016-07-05         2016-07-06               86             25   \n",
              "44       2016-07-06         2016-07-07               64             24   \n",
              "50       2016-07-08         2016-07-09             3812             70   \n",
              "56       2016-07-07         2016-07-08             3769             71   \n",
              "57       2016-07-08         2016-07-13             3739             71   \n",
              "\n",
              "    deadline_deliver  delivered_to_plan  date_order date_planned  \\\n",
              "42                 3                  0  2016-07-03   2016-07-05   \n",
              "44                 4                  0  2016-07-03   2016-07-06   \n",
              "50                 4                  0  2016-07-03   2016-07-08   \n",
              "56                 3                  0  2016-07-03   2016-07-07   \n",
              "57                 4                  0  2016-07-03   2016-07-08   \n",
              "\n",
              "   date_delivered date_product_ready time_order time_planned time_delivered  \\\n",
              "42     2016-07-06         2016-07-04   07:33:24     00:00:00       00:00:00   \n",
              "44     2016-07-07         2016-07-04   07:55:02     00:00:00       00:00:00   \n",
              "50     2016-07-09         2016-07-05   10:27:50     00:00:00       00:00:00   \n",
              "56     2016-07-08         2016-07-05   11:10:54     00:00:00       00:00:00   \n",
              "57     2016-07-13         2016-07-05   11:40:02     00:00:00       00:00:00   \n",
              "\n",
              "   time_product_ready  source-order(in_days)  \n",
              "42           04:16:47                      0  \n",
              "44           05:17:01                      0  \n",
              "50           03:42:40                      0  \n",
              "56           03:42:47                      0  \n",
              "57           03:42:54                      0  "
            ]
          },
          "metadata": {
            "tags": []
          },
          "execution_count": 12
        }
      ]
    },
    {
      "metadata": {
        "id": "x9PeyBGNgVni",
        "colab_type": "code",
        "colab": {}
      },
      "cell_type": "code",
      "source": [
        ""
      ],
      "execution_count": 0,
      "outputs": []
    },
    {
      "metadata": {
        "id": "xOlIsSXEgi94",
        "colab_type": "text"
      },
      "cell_type": "markdown",
      "source": [
        " "
      ]
    },
    {
      "metadata": {
        "id": "TUt2FagDg1_1",
        "colab_type": "text"
      },
      "cell_type": "markdown",
      "source": [
        "### Feature Engineering - remove NA and outliers"
      ]
    },
    {
      "metadata": {
        "id": "7ooTEbdwTNJK",
        "colab_type": "code",
        "outputId": "5837504c-d930-4dfe-b372-a124e9ef97a1",
        "colab": {
          "base_uri": "https://localhost:8080/",
          "height": 545
        }
      },
      "cell_type": "code",
      "source": [
        "print(np.sum(df.isnull()))"
      ],
      "execution_count": 13,
      "outputs": [
        {
          "output_type": "stream",
          "text": [
            "order_id                  0\n",
            "country                   0\n",
            "shipping_method           0\n",
            "units_per_order           0\n",
            "facility                  0\n",
            "product_category          0\n",
            "on_sale                   0\n",
            "transit_days              0\n",
            "returned                  0\n",
            "backorder                 0\n",
            "datetime_ordered          0\n",
            "datetime_sourced          0\n",
            "datetime_product_ready    0\n",
            "datetime_planned          0\n",
            "datetime_delivered        0\n",
            "deadline_source           0\n",
            "deadline_make             0\n",
            "deadline_deliver          0\n",
            "delivered_to_plan         0\n",
            "date_order                0\n",
            "date_planned              0\n",
            "date_delivered            0\n",
            "date_product_ready        0\n",
            "time_order                0\n",
            "time_planned              0\n",
            "time_delivered            0\n",
            "time_product_ready        0\n",
            "source-order(in_days)     0\n",
            "dtype: int64\n"
          ],
          "name": "stdout"
        }
      ]
    },
    {
      "metadata": {
        "id": "u9UM-UQCgGHy",
        "colab_type": "text"
      },
      "cell_type": "markdown",
      "source": [
        "***WOW! No missing values. Let's check potential outliers, if any***"
      ]
    },
    {
      "metadata": {
        "id": "NGp22PlrbBTx",
        "colab_type": "code",
        "outputId": "a20c0353-1f5e-4168-c3a4-60ac538a71b5",
        "colab": {
          "base_uri": "https://localhost:8080/",
          "height": 288
        }
      },
      "cell_type": "code",
      "source": [
        "df.describe() # only numeric columns"
      ],
      "execution_count": 14,
      "outputs": [
        {
          "output_type": "execute_result",
          "data": {
            "text/html": [
              "<div>\n",
              "<style scoped>\n",
              "    .dataframe tbody tr th:only-of-type {\n",
              "        vertical-align: middle;\n",
              "    }\n",
              "\n",
              "    .dataframe tbody tr th {\n",
              "        vertical-align: top;\n",
              "    }\n",
              "\n",
              "    .dataframe thead th {\n",
              "        text-align: right;\n",
              "    }\n",
              "</style>\n",
              "<table border=\"1\" class=\"dataframe\">\n",
              "  <thead>\n",
              "    <tr style=\"text-align: right;\">\n",
              "      <th></th>\n",
              "      <th>units_per_order</th>\n",
              "      <th>on_sale</th>\n",
              "      <th>transit_days</th>\n",
              "      <th>returned</th>\n",
              "      <th>backorder</th>\n",
              "      <th>deadline_source</th>\n",
              "      <th>deadline_make</th>\n",
              "      <th>deadline_deliver</th>\n",
              "      <th>delivered_to_plan</th>\n",
              "      <th>source-order(in_days)</th>\n",
              "    </tr>\n",
              "  </thead>\n",
              "  <tbody>\n",
              "    <tr>\n",
              "      <th>count</th>\n",
              "      <td>110114.000000</td>\n",
              "      <td>110114.000000</td>\n",
              "      <td>110114.000000</td>\n",
              "      <td>110114.000000</td>\n",
              "      <td>110114.000000</td>\n",
              "      <td>110114.000000</td>\n",
              "      <td>110114.000000</td>\n",
              "      <td>110114.000000</td>\n",
              "      <td>110114.000000</td>\n",
              "      <td>110114.000000</td>\n",
              "    </tr>\n",
              "    <tr>\n",
              "      <th>mean</th>\n",
              "      <td>1.042329</td>\n",
              "      <td>0.515311</td>\n",
              "      <td>2.381305</td>\n",
              "      <td>0.139773</td>\n",
              "      <td>0.109977</td>\n",
              "      <td>1336.617297</td>\n",
              "      <td>40.581806</td>\n",
              "      <td>3.515829</td>\n",
              "      <td>0.894736</td>\n",
              "      <td>0.091669</td>\n",
              "    </tr>\n",
              "    <tr>\n",
              "      <th>std</th>\n",
              "      <td>0.496093</td>\n",
              "      <td>0.499768</td>\n",
              "      <td>1.113712</td>\n",
              "      <td>0.346753</td>\n",
              "      <td>0.312862</td>\n",
              "      <td>1105.341513</td>\n",
              "      <td>25.320339</td>\n",
              "      <td>1.741056</td>\n",
              "      <td>0.306894</td>\n",
              "      <td>0.779382</td>\n",
              "    </tr>\n",
              "    <tr>\n",
              "      <th>min</th>\n",
              "      <td>1.000000</td>\n",
              "      <td>0.000000</td>\n",
              "      <td>1.000000</td>\n",
              "      <td>0.000000</td>\n",
              "      <td>0.000000</td>\n",
              "      <td>1.000000</td>\n",
              "      <td>1.000000</td>\n",
              "      <td>1.000000</td>\n",
              "      <td>0.000000</td>\n",
              "      <td>0.000000</td>\n",
              "    </tr>\n",
              "    <tr>\n",
              "      <th>25%</th>\n",
              "      <td>1.000000</td>\n",
              "      <td>0.000000</td>\n",
              "      <td>2.000000</td>\n",
              "      <td>0.000000</td>\n",
              "      <td>0.000000</td>\n",
              "      <td>479.000000</td>\n",
              "      <td>23.000000</td>\n",
              "      <td>2.000000</td>\n",
              "      <td>1.000000</td>\n",
              "      <td>0.000000</td>\n",
              "    </tr>\n",
              "    <tr>\n",
              "      <th>50%</th>\n",
              "      <td>1.000000</td>\n",
              "      <td>1.000000</td>\n",
              "      <td>2.000000</td>\n",
              "      <td>0.000000</td>\n",
              "      <td>0.000000</td>\n",
              "      <td>1104.000000</td>\n",
              "      <td>32.000000</td>\n",
              "      <td>3.000000</td>\n",
              "      <td>1.000000</td>\n",
              "      <td>0.000000</td>\n",
              "    </tr>\n",
              "    <tr>\n",
              "      <th>75%</th>\n",
              "      <td>1.000000</td>\n",
              "      <td>1.000000</td>\n",
              "      <td>3.000000</td>\n",
              "      <td>0.000000</td>\n",
              "      <td>0.000000</td>\n",
              "      <td>1566.000000</td>\n",
              "      <td>52.000000</td>\n",
              "      <td>5.000000</td>\n",
              "      <td>1.000000</td>\n",
              "      <td>0.000000</td>\n",
              "    </tr>\n",
              "    <tr>\n",
              "      <th>max</th>\n",
              "      <td>50.000000</td>\n",
              "      <td>1.000000</td>\n",
              "      <td>8.000000</td>\n",
              "      <td>1.000000</td>\n",
              "      <td>1.000000</td>\n",
              "      <td>6392.000000</td>\n",
              "      <td>168.000000</td>\n",
              "      <td>14.000000</td>\n",
              "      <td>1.000000</td>\n",
              "      <td>45.000000</td>\n",
              "    </tr>\n",
              "  </tbody>\n",
              "</table>\n",
              "</div>"
            ],
            "text/plain": [
              "       units_per_order        on_sale   transit_days       returned  \\\n",
              "count    110114.000000  110114.000000  110114.000000  110114.000000   \n",
              "mean          1.042329       0.515311       2.381305       0.139773   \n",
              "std           0.496093       0.499768       1.113712       0.346753   \n",
              "min           1.000000       0.000000       1.000000       0.000000   \n",
              "25%           1.000000       0.000000       2.000000       0.000000   \n",
              "50%           1.000000       1.000000       2.000000       0.000000   \n",
              "75%           1.000000       1.000000       3.000000       0.000000   \n",
              "max          50.000000       1.000000       8.000000       1.000000   \n",
              "\n",
              "           backorder  deadline_source  deadline_make  deadline_deliver  \\\n",
              "count  110114.000000    110114.000000  110114.000000     110114.000000   \n",
              "mean        0.109977      1336.617297      40.581806          3.515829   \n",
              "std         0.312862      1105.341513      25.320339          1.741056   \n",
              "min         0.000000         1.000000       1.000000          1.000000   \n",
              "25%         0.000000       479.000000      23.000000          2.000000   \n",
              "50%         0.000000      1104.000000      32.000000          3.000000   \n",
              "75%         0.000000      1566.000000      52.000000          5.000000   \n",
              "max         1.000000      6392.000000     168.000000         14.000000   \n",
              "\n",
              "       delivered_to_plan  source-order(in_days)  \n",
              "count      110114.000000          110114.000000  \n",
              "mean            0.894736               0.091669  \n",
              "std             0.306894               0.779382  \n",
              "min             0.000000               0.000000  \n",
              "25%             1.000000               0.000000  \n",
              "50%             1.000000               0.000000  \n",
              "75%             1.000000               0.000000  \n",
              "max             1.000000              45.000000  "
            ]
          },
          "metadata": {
            "tags": []
          },
          "execution_count": 14
        }
      ]
    },
    {
      "metadata": {
        "id": "XA7qgNtJes91",
        "colab_type": "code",
        "outputId": "318c16c3-66e6-428a-e17a-8671b60e760b",
        "colab": {
          "base_uri": "https://localhost:8080/",
          "height": 417
        }
      },
      "cell_type": "code",
      "source": [
        "## only units_per_order looks problematic, let's dig deeper\n",
        "\n",
        "## clearly most orders has only 1 unit\n",
        "print('1 unit per order accounts = ', (df[df.units_per_order == 1].shape[0]/df.shape[0])*100, 'percents') \n",
        "\n",
        "print(df.units_per_order.value_counts())"
      ],
      "execution_count": 15,
      "outputs": [
        {
          "output_type": "stream",
          "text": [
            "1 unit per order accounts =  97.79955319033003 percents\n",
            "1     107691\n",
            "2       1638\n",
            "3        409\n",
            "4        112\n",
            "5        100\n",
            "6         59\n",
            "10        51\n",
            "7         16\n",
            "8         10\n",
            "9          8\n",
            "20         8\n",
            "30         2\n",
            "35         2\n",
            "50         2\n",
            "16         1\n",
            "12         1\n",
            "11         1\n",
            "40         1\n",
            "17         1\n",
            "19         1\n",
            "Name: units_per_order, dtype: int64\n"
          ],
          "name": "stdout"
        }
      ]
    },
    {
      "metadata": {
        "id": "9z3YCfW4jrMQ",
        "colab_type": "text"
      },
      "cell_type": "markdown",
      "source": [
        "## Let's keep rows with same source date & order date and units per order = 1"
      ]
    },
    {
      "metadata": {
        "id": "3WFv_Fh1fQOE",
        "colab_type": "code",
        "outputId": "49315217-4c06-4d04-ae92-139a7a60d416",
        "colab": {
          "base_uri": "https://localhost:8080/",
          "height": 298
        }
      },
      "cell_type": "code",
      "source": [
        "## let's drop them for now!\n",
        "df1 = df[(df.units_per_order == 1) & (df['source-order(in_days)'] == 0)]\n",
        "\n",
        "\n",
        "## Explore the demand - product wise\n",
        "accessories = df1[df1.product_category=='ACCESSORIES'].groupby(df1.date_order).sum()\n",
        "jackets = df1[df1.product_category=='JACKETS & VESTS'].groupby(df1.date_order).sum()\n",
        "tops = df1[df1.product_category=='TOPS'].groupby(df1.date_order).sum()\n",
        "\n",
        "f,(a,b,c) = plt.subplots(1,3, figsize = (20,4))\n",
        "a.plot(accessories['units_per_order']); a.set_title('Accessories demands')\n",
        "b.plot(jackets['units_per_order']); b.set_title('Jacket & Vests demands')\n",
        "c.plot(tops['units_per_order']); c.set_title('TOPS demands')"
      ],
      "execution_count": 19,
      "outputs": [
        {
          "output_type": "execute_result",
          "data": {
            "text/plain": [
              "Text(0.5, 1.0, 'TOPS demands')"
            ]
          },
          "metadata": {
            "tags": []
          },
          "execution_count": 19
        },
        {
          "output_type": "display_data",
          "data": {
            "image/png": "[encoded data removed]",
            "text/plain": [
              "<Figure size 1440x288 with 3 Axes>"
            ]
          },
          "metadata": {
            "tags": []
          }
        }
      ]
    },
    {
      "metadata": {
        "id": "sfeJTHpFiwSp",
        "colab_type": "code",
        "colab": {}
      },
      "cell_type": "code",
      "source": [
        ""
      ],
      "execution_count": 0,
      "outputs": []
    },
    {
      "metadata": {
        "id": "zui4D1uACd9K",
        "colab_type": "code",
        "outputId": "ec6fd263-e5c1-47e7-ff8e-2584b4ae14d6",
        "colab": {
          "base_uri": "https://localhost:8080/",
          "height": 815
        }
      },
      "cell_type": "code",
      "source": [
        "## Explore the dataset\n",
        "df3 = df[(df.units_per_order == 1) & (df['source-order(in_days)'] == 0)]\n",
        "\n",
        "df1 = df3[df3.delivered_to_plan==1]\n",
        "df2 = df3[df3.delivered_to_plan==0]\n",
        "## Explore the demand - product wise\n",
        "\n",
        "# Pass\n",
        "accessories1 = df1[df1.product_category=='ACCESSORIES'].groupby(df1.date_order).sum()\n",
        "jackets1 = df1[df1.product_category=='JACKETS & VESTS'].groupby(df1.date_order).sum()\n",
        "tops1 = df1[df1.product_category=='TOPS'].groupby(df1.date_order).sum()\n",
        "\n",
        "print('*'*10, ' PASS ', '*'*10)\n",
        "f1,(a1,b1,c1) = plt.subplots(1,3, figsize = (20,4))\n",
        "a1.plot(accessories1['units_per_order']); a1.set_title('Accessories demands')\n",
        "b1.plot(jackets1['units_per_order']); b1.set_title('Jacket & Vests demands')\n",
        "c1.plot(tops1['units_per_order']); c1.set_title('TOPS demands')\n",
        "plt.show()\n",
        "\n",
        "# Fail\n",
        "accessories2 = df2[df2.product_category=='ACCESSORIES'].groupby(df2.date_order).sum()\n",
        "jackets2 = df2[df2.product_category=='JACKETS & VESTS'].groupby(df2.date_order).sum()\n",
        "tops2 = df2[df2.product_category=='TOPS'].groupby(df2.date_order).sum()\n",
        "\n",
        "print('*'*10, ' FAIL ', '*'*10)\n",
        "f2,(a2,b2,c2) = plt.subplots(1,3, figsize = (20,4))\n",
        "a2.plot(accessories2['units_per_order']); a2.set_title('Accessories demands')\n",
        "b2.plot(jackets2['units_per_order']); b2.set_title('Jacket & Vests demands')\n",
        "c2.plot(tops2['units_per_order']); c2.set_title('TOPS demands')\n",
        "plt.show()\n",
        "\n",
        "\n",
        "## Explore locations\n",
        "print('*'*10, ' locations ', '*'*10)\n",
        "failed_order_counts = df2.groupby('country').sum()['units_per_order']\n",
        "total_order_counts = df3.groupby('country').sum()['units_per_order']\n",
        "# pd.DataFrame([failed_order_counts, total_order_counts], columns=['Failed', 'Total'])\n",
        "#print(failed_order_counts, total_order_counts)\n",
        "\n",
        "countries = ['BELGIUM', 'FRANCE', 'GERMANY', 'NETHERLANDS', 'SWEDEN', 'UNITED KINGDOM']\n",
        "for i,j,k in zip(failed_order_counts, total_order_counts, countries):\n",
        "  print (k, ' = ', (i/j)*100)\n",
        "  \n",
        "## Explore product categories\n",
        "print('*'*10, ' products ', '*'*10)\n",
        "df3[df3.delivered_to_plan==0].groupby('product_category').sum()['units_per_order']/df3.groupby('product_category').sum()['units_per_order']\n"
      ],
      "execution_count": 25,
      "outputs": [
        {
          "output_type": "stream",
          "text": [
            "**********  PASS  **********\n"
          ],
          "name": "stdout"
        },
        {
          "output_type": "display_data",
          "data": {
            "image/png": "[encoded data removed]",
            "text/plain": [
              "<Figure size 1440x288 with 3 Axes>"
            ]
          },
          "metadata": {
            "tags": []
          }
        },
        {
          "output_type": "stream",
          "text": [
            "**********  FAIL  **********\n"
          ],
          "name": "stdout"
        },
        {
          "output_type": "display_data",
          "data": {
            "image/png": "[encoded data removed]",
            "text/plain": [
              "<Figure size 1440x288 with 3 Axes>"
            ]
          },
          "metadata": {
            "tags": []
          }
        },
        {
          "output_type": "stream",
          "text": [
            "**********  locations  **********\n",
            "BELGIUM  =  22.483940042826553\n",
            "FRANCE  =  10.437538335718667\n",
            "GERMANY  =  10.568265936752224\n",
            "NETHERLANDS  =  10.368663594470046\n",
            "SWEDEN  =  8.75106202209006\n",
            "UNITED KINGDOM  =  7.746478873239436\n",
            "**********  products  **********\n"
          ],
          "name": "stdout"
        },
        {
          "output_type": "execute_result",
          "data": {
            "text/plain": [
              "product_category\n",
              "ACCESSORIES        0.083511\n",
              "JACKETS & VESTS    0.100291\n",
              "TOPS               0.093249\n",
              "Name: units_per_order, dtype: float64"
            ]
          },
          "metadata": {
            "tags": []
          },
          "execution_count": 25
        }
      ]
    },
    {
      "metadata": {
        "id": "BEJp1-vNFxgF",
        "colab_type": "code",
        "colab": {}
      },
      "cell_type": "code",
      "source": [
        ""
      ],
      "execution_count": 0,
      "outputs": []
    },
    {
      "metadata": {
        "id": "htWRT8iVGTdr",
        "colab_type": "code",
        "colab": {}
      },
      "cell_type": "code",
      "source": [
        ""
      ],
      "execution_count": 0,
      "outputs": []
    }
  ]
}